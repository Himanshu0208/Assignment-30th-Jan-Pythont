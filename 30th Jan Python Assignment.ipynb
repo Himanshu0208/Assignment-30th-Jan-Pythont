{
 "cells": [
  {
   "cell_type": "markdown",
   "id": "d5c741a2-f79c-4e7f-9c72-c5f695cd37f7",
   "metadata": {},
   "source": [
    "## Ques 1"
   ]
  },
  {
   "cell_type": "code",
   "execution_count": 6,
   "id": "c5d305d6-a37c-4674-be98-bd8a0e64f438",
   "metadata": {},
   "outputs": [
    {
     "name": "stdin",
     "output_type": "stream",
     "text": [
      "Enter your percentage 45\n"
     ]
    },
    {
     "name": "stdout",
     "output_type": "stream",
     "text": [
      "You got D grade\n"
     ]
    }
   ],
   "source": [
    "percentage = int(input('Enter your percentage'))\n",
    "\n",
    "if (percentage > 90) :\n",
    "    print(\"You got A grade\")\n",
    "elif (percentage > 80 and percentage <= 90) :\n",
    "    print('You got B grade')\n",
    "elif (percentage >= 60 and percentage <= 80) :\n",
    "    print('You got C grade')\n",
    "else :\n",
    "    print('You got D grade')"
   ]
  },
  {
   "cell_type": "markdown",
   "id": "5a91c3ab-6508-41a2-9a54-64439d2b7fdf",
   "metadata": {},
   "source": [
    "## Ques 2"
   ]
  },
  {
   "cell_type": "code",
   "execution_count": 9,
   "id": "fe0c8e21-0fd6-49ae-b8f0-574a5ebdd9e7",
   "metadata": {},
   "outputs": [
    {
     "name": "stdin",
     "output_type": "stream",
     "text": [
      "Enter the cost price of bike 50000\n"
     ]
    },
    {
     "name": "stdout",
     "output_type": "stream",
     "text": [
      "Your road tax is 5%\n"
     ]
    }
   ],
   "source": [
    "bikeCP = int(input('Enter the cost price of bike'))\n",
    "\n",
    "if (bikeCP > 100000) :\n",
    "    print('Your road tax is 15%')\n",
    "elif (bikeCP > 50000 and bikeCP <= 100000) :\n",
    "    print('Your road tax is 10%')\n",
    "elif (bikeCP <= 50000) :\n",
    "    print('Your road tax is 5%')\n"
   ]
  },
  {
   "cell_type": "markdown",
   "id": "a1eec7ba-ad40-4242-b6eb-ae48329b008f",
   "metadata": {},
   "source": [
    "## Ques 3"
   ]
  },
  {
   "cell_type": "code",
   "execution_count": 15,
   "id": "365ff836-9f7a-4aa5-9c5e-ad39c3542635",
   "metadata": {},
   "outputs": [
    {
     "name": "stdin",
     "output_type": "stream",
     "text": [
      "Enter your city AgRa\n"
     ]
    },
    {
     "name": "stdout",
     "output_type": "stream",
     "text": [
      "The monumnet in Agra is Taj Mahal\n"
     ]
    }
   ],
   "source": [
    "city = input('Enter your city')\n",
    "city = city.capitalize()\n",
    "\n",
    "if (city == 'Delhi') :\n",
    "    print('The monumnet in ' + city + ' is Red Fort')\n",
    "elif (city == 'Agra') :\n",
    "    print('The monumnet in ' + city + ' is Taj Mahal')\n",
    "elif (city == 'Jaipur') :\n",
    "    print('The monumnet in ' + city + ' is Jal Mahal')\n"
   ]
  },
  {
   "cell_type": "markdown",
   "id": "cd414eab-1f9a-4f75-83fe-f8e65a0a5aff",
   "metadata": {},
   "source": [
    "## Ques 4"
   ]
  },
  {
   "cell_type": "code",
   "execution_count": 23,
   "id": "ea181948-8f3a-416b-9bf4-2635ae9c3df9",
   "metadata": {},
   "outputs": [
    {
     "name": "stdin",
     "output_type": "stream",
     "text": [
      "Enter the number hich you want to check 10\n"
     ]
    },
    {
     "name": "stdout",
     "output_type": "stream",
     "text": [
      "The number 10 can be divided 0 times by 3 before it is greater than 10\n"
     ]
    }
   ],
   "source": [
    "number = int(input('Enter the number hich you want to check'))\n",
    "count = 0\n",
    "\n",
    "print('The number ' + str(number) + ' can be divided ', end=\"\")\n",
    "while (number <= 10) :\n",
    "    if(number%3 == 0) :\n",
    "        count = count + 1\n",
    "    number = number + 1\n",
    "\n",
    "print(str(count) + ' times by 3 before it is greater than 10')"
   ]
  },
  {
   "cell_type": "markdown",
   "id": "216a6fd7-1707-49d3-b3f0-bb4f300918e4",
   "metadata": {},
   "source": [
    "## Ques 5"
   ]
  },
  {
   "cell_type": "markdown",
   "id": "8bf8031e-26b7-438c-a7cd-349b48058c52",
   "metadata": {},
   "source": [
    "We should use 'while' loop when we are not sure about the the ending case were we want to stop.\n",
    "This is why 'while' loop is also known as the exit controlled loop while the 'for' is also known as entry controlled loop. In 'while'\n",
    "we are not sure when we have to have stop we just run and do some changes in our variables until a given condition become false\n",
    "while in 'for' loop we know how many times are loop is going to run while declaring the loop in while loops we didn't know this we just do looping until the base codition s become false."
   ]
  },
  {
   "cell_type": "markdown",
   "id": "876e3a0c-d88b-4808-a90a-da89a9642821",
   "metadata": {},
   "source": [
    "## Ques 6"
   ]
  },
  {
   "cell_type": "markdown",
   "id": "63a386ac-a8e2-4e03-b6c4-03886006a445",
   "metadata": {},
   "source": [
    "#### Pattern 1"
   ]
  },
  {
   "cell_type": "code",
   "execution_count": 3,
   "id": "35d6e88e-a192-4799-b12b-304470ad8e05",
   "metadata": {},
   "outputs": [
    {
     "name": "stdin",
     "output_type": "stream",
     "text": [
      "Enter the number of rows you want 5\n"
     ]
    },
    {
     "name": "stdout",
     "output_type": "stream",
     "text": [
      "1\n",
      "12\n",
      "123\n",
      "1234\n",
      "12345\n"
     ]
    }
   ],
   "source": [
    "'''\n",
    "1\n",
    "12\n",
    "123\n",
    "1234\n",
    "'''\n",
    "row = int(input('Enter the number of rows you want'))\n",
    "count = 1\n",
    "\n",
    "while count <= row :\n",
    "    data = 1\n",
    "    while data <= count :\n",
    "        print(data, end=\"\")\n",
    "        data += 1\n",
    "    print()\n",
    "    count += 1"
   ]
  },
  {
   "cell_type": "markdown",
   "id": "c5a33c00-db4f-48e6-a070-ec772baffd36",
   "metadata": {},
   "source": [
    "#### Patter 2"
   ]
  },
  {
   "cell_type": "code",
   "execution_count": 6,
   "id": "7f11cdaa-d5b1-4472-a33c-11fe17baa1ef",
   "metadata": {},
   "outputs": [
    {
     "name": "stdin",
     "output_type": "stream",
     "text": [
      "Enter the number of rows you want 4\n"
     ]
    },
    {
     "name": "stdout",
     "output_type": "stream",
     "text": [
      "1234\n",
      "123\n",
      "12\n",
      "1\n"
     ]
    }
   ],
   "source": [
    "'''\n",
    "1234\n",
    "123\n",
    "12\n",
    "1\n",
    "'''\n",
    "\n",
    "row = int(input('Enter the number of rows you want'))\n",
    "count = 1\n",
    "\n",
    "while count <= row :\n",
    "    data = 1\n",
    "    while data <= (row - count + 1):\n",
    "        print(data, end=\"\")\n",
    "        data += 1\n",
    "    print()\n",
    "    count += 1\n"
   ]
  },
  {
   "cell_type": "markdown",
   "id": "761cff2d-8325-45e9-89a3-6d147c5dc16c",
   "metadata": {},
   "source": [
    "#### Pattern 3"
   ]
  },
  {
   "cell_type": "code",
   "execution_count": 4,
   "id": "205b456a-48c5-4839-a045-660fe58a26a7",
   "metadata": {},
   "outputs": [
    {
     "name": "stdin",
     "output_type": "stream",
     "text": [
      "Enter the number of rows you want 6\n"
     ]
    },
    {
     "name": "stdout",
     "output_type": "stream",
     "text": [
      "     1\n",
      "    21\n",
      "   321\n",
      "  4321\n",
      " 54321\n",
      "654321\n"
     ]
    }
   ],
   "source": [
    "'''\n",
    "   1\n",
    "  21\n",
    " 321\n",
    "4321\n",
    "'''\n",
    "\n",
    "row = int(input('Enter the number of rows you want'))\n",
    "count = 1\n",
    "\n",
    "while count <= row :\n",
    "    data = count\n",
    "    space = 1\n",
    "    while space <= (row - count) :\n",
    "        print(\" \", end=\"\")\n",
    "        space += 1\n",
    "        \n",
    "    while data >= 1:\n",
    "        print(data, end=\"\")\n",
    "        data -= 1\n",
    "    print()\n",
    "    count += 1\n",
    "\n"
   ]
  },
  {
   "cell_type": "markdown",
   "id": "e4fab45a-efde-4d3e-a30a-6b9fb0e8f988",
   "metadata": {},
   "source": [
    "## Ques 7"
   ]
  },
  {
   "cell_type": "code",
   "execution_count": 5,
   "id": "8422f50c-4f8b-40f7-acbc-6945334d52d3",
   "metadata": {},
   "outputs": [
    {
     "name": "stdout",
     "output_type": "stream",
     "text": [
      "10\n",
      "9\n",
      "8\n",
      "7\n",
      "6\n",
      "5\n",
      "4\n",
      "3\n",
      "2\n",
      "1\n"
     ]
    }
   ],
   "source": [
    "num = 10\n",
    "\n",
    "while num >= 1:\n",
    "    print(num)\n",
    "    num -= 1"
   ]
  },
  {
   "cell_type": "markdown",
   "id": "3f909564-f2e6-443e-86c3-bd2bb8a3dffc",
   "metadata": {},
   "source": [
    "## Ques 8\n",
    "Ques is repeated its same as Ques 7"
   ]
  },
  {
   "cell_type": "code",
   "execution_count": 6,
   "id": "1b60d449-0092-43d6-9551-6bfe6b15a362",
   "metadata": {},
   "outputs": [
    {
     "name": "stdout",
     "output_type": "stream",
     "text": [
      "10\n",
      "9\n",
      "8\n",
      "7\n",
      "6\n",
      "5\n",
      "4\n",
      "3\n",
      "2\n",
      "1\n"
     ]
    }
   ],
   "source": [
    "num = 10\n",
    "\n",
    "while num >= 1:\n",
    "    print(num)\n",
    "    num -= 1"
   ]
  },
  {
   "cell_type": "code",
   "execution_count": null,
   "id": "34f15c4f-2637-4391-bd85-f295caef3e8a",
   "metadata": {},
   "outputs": [],
   "source": []
  }
 ],
 "metadata": {
  "kernelspec": {
   "display_name": "Python 3 (ipykernel)",
   "language": "python",
   "name": "python3"
  },
  "language_info": {
   "codemirror_mode": {
    "name": "ipython",
    "version": 3
   },
   "file_extension": ".py",
   "mimetype": "text/x-python",
   "name": "python",
   "nbconvert_exporter": "python",
   "pygments_lexer": "ipython3",
   "version": "3.10.8"
  }
 },
 "nbformat": 4,
 "nbformat_minor": 5
}
